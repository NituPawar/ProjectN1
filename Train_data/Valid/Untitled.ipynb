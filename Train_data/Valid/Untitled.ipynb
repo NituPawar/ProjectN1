{
 "cells": [
  {
   "cell_type": "code",
   "execution_count": 3,
   "id": "dd6a53eb",
   "metadata": {},
   "outputs": [],
   "source": [
    "import glob\n",
    "import os\n",
    "import matplotlib.pyplot as plt\n",
    "import matplotlib.image as mpimg\n",
    "import matplotlib.patches as patches\n",
    "from PIL import Image\n",
    "import numpy as np\n",
    "import json\n",
    "\n",
    "def process_image(image_path):\n",
    "    # Extract the filename without extension to use as label\n",
    "    label = os.path.splitext(os.path.basename(image_path))[0]\n",
    "\n",
    "    img_np = mpimg.imread(image_path)\n",
    "    img = Image.fromarray(img_np.astype(\"uint8\"), \"RGB\")\n",
    "    x, y = img.size\n",
    "\n",
    "    fig, ax = plt.subplots(1, figsize=(15, 15))\n",
    "    ax.imshow(img_np)\n",
    "\n",
    "    # You need to replace the following line with your actual code to get detections\n",
    "    # detections = json.loads(resp)\n",
    "\n",
    "    # For the purpose of testing, I'll use a placeholder for detections\n",
    "    detections = [{\"boxes\": [{\"label\": label, \"box\": {\"topY\": 0.1, \"topX\": 0.1, \"bottomY\": 0.9, \"bottomX\": 0.9}, \"score\": 0.8}]}]\n",
    "\n",
    "    for detect in detections[0][\"boxes\"]:\n",
    "        if detect[\"label\"] == label:\n",
    "            box = detect[\"box\"]\n",
    "            conf_score = detect[\"score\"]\n",
    "            if conf_score > 0.6:\n",
    "                ymin, xmin, ymax, xmax = (\n",
    "                    box[\"topY\"],\n",
    "                    box[\"topX\"],\n",
    "                    box[\"bottomY\"],\n",
    "                    box[\"bottomX\"],\n",
    "                )\n",
    "                topleft_x, topleft_y = x * xmin, y * ymin\n",
    "                width, height = x * (xmax - xmin), y * (ymax - ymin)\n",
    "                color = np.random.rand(3)\n",
    "                rect = patches.Rectangle(\n",
    "                    (topleft_x, topleft_y),\n",
    "                    width,\n",
    "                    height,\n",
    "                    linewidth=3,\n",
    "                    edgecolor=color,\n",
    "                    facecolor=\"none\",\n",
    "                )\n",
    "                ax.add_patch(rect)\n",
    "                plt.text(topleft_x, topleft_y - 10, label, color=color, fontsize=20)\n",
    "\n",
    "    plt.show()\n",
    "\n",
    "# Replace the path with your actual path\n",
    "for image_path in glob.glob(\"D:/asdf/new_project/Train_data/Valid/*.tiff\"):\n",
    "    process_image(image_path)\n"
   ]
  },
  {
   "cell_type": "code",
   "execution_count": null,
   "id": "f410e6a3",
   "metadata": {},
   "outputs": [],
   "source": []
  },
  {
   "cell_type": "code",
   "execution_count": null,
   "id": "748143a0",
   "metadata": {},
   "outputs": [],
   "source": []
  },
  {
   "cell_type": "code",
   "execution_count": null,
   "id": "46bfcf68",
   "metadata": {},
   "outputs": [],
   "source": []
  }
 ],
 "metadata": {
  "kernelspec": {
   "display_name": "Python 3 (ipykernel)",
   "language": "python",
   "name": "python3"
  },
  "language_info": {
   "codemirror_mode": {
    "name": "ipython",
    "version": 3
   },
   "file_extension": ".py",
   "mimetype": "text/x-python",
   "name": "python",
   "nbconvert_exporter": "python",
   "pygments_lexer": "ipython3",
   "version": "3.11.5"
  }
 },
 "nbformat": 4,
 "nbformat_minor": 5
}
