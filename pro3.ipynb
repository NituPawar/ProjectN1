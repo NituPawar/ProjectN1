{
 "cells": [
  {
   "cell_type": "code",
   "execution_count": 4,
   "id": "a083f9c9",
   "metadata": {},
   "outputs": [],
   "source": [
    "training_dir = r'C:\\Users\\nitup\\Downloads\\Image_1000_850'\n",
    "test_dir = r'C:\\Users\\nitup\\Downloads\\Images_1100_850'"
   ]
  },
  {
   "cell_type": "code",
   "execution_count": null,
   "id": "c9d58da1",
   "metadata": {},
   "outputs": [],
   "source": [
    "\n",
    "from PIL import Image\n",
    "import os\n",
    "\n",
    "# Replace 'training_dir' with your actual directory path\n",
    "training_dir = 'Image_1000_850'\n",
    "\n",
    "# List all TIF image files in the directory\n",
    "tif_files = [f for f in os.listdir(training_dir) if f.endswith('.tif')]\n",
    "\n",
    "images = []\n",
    "for tif_file in tif_files:\n",
    "    tif_path = os.path.join(training_dir, tif_file)\n",
    "    image = Image.open(tif_path)\n",
    "    images.append(image)\n",
    "print(len(training_dir))\n",
    "# Now, the 'images' list contains all your TIF images.\n"
   ]
  },
  {
   "cell_type": "code",
   "execution_count": null,
   "id": "311bca5a",
   "metadata": {},
   "outputs": [],
   "source": [
    "os.system(f'labelImg {images}')\n"
   ]
  },
  {
   "cell_type": "code",
   "execution_count": null,
   "id": "c91a2cdf",
   "metadata": {},
   "outputs": [],
   "source": [
    "image_count = len(list(training_dir.glob('*/*.tif')))\n",
    "print(image_count)"
   ]
  },
  {
   "cell_type": "code",
   "execution_count": null,
   "id": "177ba5ab",
   "metadata": {},
   "outputs": [],
   "source": [
    "from pathlib import Path\n",
    "\n",
    "# Replace 'training_dir' with the actual path to your directory\n",
    "training_dir = Path('Image_1000_850')\n",
    "\n",
    "# Use the glob pattern to match TIF files\n",
    "tif_files = list(training_dir.glob('**/*.tif'))\n",
    "\n",
    "# Count the number of TIF files\n",
    "image_count = len(tif_files)\n",
    "\n",
    "print(image_count)\n"
   ]
  },
  {
   "cell_type": "code",
   "execution_count": null,
   "id": "d3dde886",
   "metadata": {},
   "outputs": [],
   "source": []
  },
  {
   "cell_type": "code",
   "execution_count": null,
   "id": "1e47ee76",
   "metadata": {},
   "outputs": [],
   "source": []
  }
 ],
 "metadata": {
  "kernelspec": {
   "display_name": "Python 3 (ipykernel)",
   "language": "python",
   "name": "python3"
  },
  "language_info": {
   "codemirror_mode": {
    "name": "ipython",
    "version": 3
   },
   "file_extension": ".py",
   "mimetype": "text/x-python",
   "name": "python",
   "nbconvert_exporter": "python",
   "pygments_lexer": "ipython3",
   "version": "3.11.5"
  }
 },
 "nbformat": 4,
 "nbformat_minor": 5
}
