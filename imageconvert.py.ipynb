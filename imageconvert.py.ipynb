{
 "cells": [
  {
   "cell_type": "code",
   "execution_count": 1,
   "id": "47fbaf1c",
   "metadata": {},
   "outputs": [],
   "source": [
    "from PIL import Image\n",
    "import csv\n",
    "\n",
    "# Open the TIFF image\n",
    "img = Image.open('ATM_Card.tif')\n",
    "\n",
    "# Convert to grayscale (if not already)\n",
    "img = img.convert('L')\n",
    "\n",
    "# Extract pixel values\n",
    "pixel_data = list(img.getdata())\n",
    "\n",
    "# Define the CSV file to save the data\n",
    "with open('output.csv', 'w', newline='') as csvfile:\n",
    "   csv_writer = csv.writer(csvfile)\n",
    "\n",
    "   # Write each pixel value as a separate row\n",
    "   for pixel_value in pixel_data:\n",
    "       csv_writer.writerow([pixel_value])\n",
    "\n"
   ]
  },
  {
   "cell_type": "code",
   "execution_count": 3,
   "id": "2f43d675",
   "metadata": {},
   "outputs": [
    {
     "name": "stdout",
     "output_type": "stream",
     "text": [
      "[        255\n",
      "0       255\n",
      "1       255\n",
      "2       255\n",
      "3       255\n",
      "4       255\n",
      "...     ...\n",
      "655354  255\n",
      "655355  255\n",
      "655356  255\n",
      "655357  255\n",
      "655358  255\n",
      "\n",
      "[655359 rows x 1 columns]]\n"
     ]
    }
   ],
   "source": [
    "import pandas as pd\n",
    "image1=pd.read_csv('output.csv')\n",
    "print([image1])"
   ]
  },
  {
   "cell_type": "code",
   "execution_count": 2,
   "id": "030d9cc1",
   "metadata": {},
   "outputs": [
    {
     "ename": "NameError",
     "evalue": "name 'image1' is not defined",
     "output_type": "error",
     "traceback": [
      "\u001b[1;31m---------------------------------------------------------------------------\u001b[0m",
      "\u001b[1;31mNameError\u001b[0m                                 Traceback (most recent call last)",
      "Cell \u001b[1;32mIn[2], line 1\u001b[0m\n\u001b[1;32m----> 1\u001b[0m \u001b[38;5;28mprint\u001b[39m([image1])\n",
      "\u001b[1;31mNameError\u001b[0m: name 'image1' is not defined"
     ]
    }
   ],
   "source": []
  },
  {
   "cell_type": "code",
   "execution_count": null,
   "id": "32637887",
   "metadata": {},
   "outputs": [],
   "source": []
  }
 ],
 "metadata": {
  "kernelspec": {
   "display_name": "Python 3 (ipykernel)",
   "language": "python",
   "name": "python3"
  },
  "language_info": {
   "codemirror_mode": {
    "name": "ipython",
    "version": 3
   },
   "file_extension": ".py",
   "mimetype": "text/x-python",
   "name": "python",
   "nbconvert_exporter": "python",
   "pygments_lexer": "ipython3",
   "version": "3.11.5"
  }
 },
 "nbformat": 4,
 "nbformat_minor": 5
}
